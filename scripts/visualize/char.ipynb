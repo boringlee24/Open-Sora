{
 "cells": [
  {
   "cell_type": "code",
   "execution_count": 17,
   "metadata": {},
   "outputs": [],
   "source": [
    "%matplotlib inline\n",
    "import numpy as np\n",
    "import matplotlib\n",
    "matplotlib.rcParams['pdf.fonttype'] = 42\n",
    "matplotlib.rcParams['ps.fonttype'] = 42\n",
    "import matplotlib.pyplot as plt\n",
    "plt.rcParams[\"font.family\"] = \"serif\"\n",
    "plt.rcParams.update({'mathtext.default':  'regular' })\n",
    "from matplotlib.ticker import MultipleLocator\n",
    "import json\n",
    "import pandas as pd\n",
    "from pathlib import Path"
   ]
  },
  {
   "cell_type": "code",
   "execution_count": 18,
   "metadata": {},
   "outputs": [],
   "source": [
    "embodied_carbon = 26356.568\n",
    "device_life_years = 5\n",
    "embodied_carbon_per_sec=embodied_carbon / device_life_years / 365 / 24 / 3600\n",
    "# carbon_per_req = self.energy_per_lvl[co2opt_lvl] * ci + self.embodied_carbon_per_sec * self.time_per_lvl[co2opt_lvl]"
   ]
  },
  {
   "cell_type": "markdown",
   "metadata": {},
   "source": [
    "# Resolution"
   ]
  },
  {
   "cell_type": "code",
   "execution_count": 19,
   "metadata": {},
   "outputs": [
    {
     "data": {
      "image/png": "[encoded data removed]",
      "text/plain": [
       "<Figure size 540x180 with 1 Axes>"
      ]
     },
     "metadata": {
      "needs_background": "light"
     },
     "output_type": "display_data"
    }
   ],
   "source": [
    "steps = 100\n",
    "frames = 16\n",
    "batch = 1\n",
    "\n",
    "resolutions = {\"144P\": (144, 256), \n",
    "               \"240P\": (240, 426), \n",
    "               \"360P\": (360, 640),\n",
    "               \"480P\": (480, 854),\n",
    "               \"720P\": (720, 1280),}\n",
    "\n",
    "y = []\n",
    "for k, v in resolutions.items():\n",
    "    with open(f\"../data/char_sample_1/batch_{batch}_steps_{steps}_frames_{frames}_reso_{v[0]}x{v[1]}.json.json\") as f:\n",
    "        data = json.load(f)\n",
    "    total_co2 = np.mean(data[\"co2\"]) + embodied_carbon_per_sec * np.mean(data[\"time\"])\n",
    "    y.append(total_co2)\n",
    "\n",
    "\n",
    "fig, axs = plt.subplots(nrows=1, ncols=1, gridspec_kw={'hspace': 0.4, 'wspace': 0.4, 'bottom': 0.2, \n",
    "                    'top': 0.8, 'right':0.995, 'left':0.17}, figsize=(7.5,2.5))\n",
    "bars = axs.bar(list(resolutions.keys()), y, width=0.4, zorder=3, edgecolor='black')\n"
   ]
  },
  {
   "cell_type": "code",
   "execution_count": null,
   "metadata": {},
   "outputs": [],
   "source": []
  }
 ],
 "metadata": {
  "kernelspec": {
   "display_name": "pytorch1.10",
   "language": "python",
   "name": "python3"
  },
  "language_info": {
   "codemirror_mode": {
    "name": "ipython",
    "version": 3
   },
   "file_extension": ".py",
   "mimetype": "text/x-python",
   "name": "python",
   "nbconvert_exporter": "python",
   "pygments_lexer": "ipython3",
   "version": "3.10.4"
  }
 },
 "nbformat": 4,
 "nbformat_minor": 2
}
