{
 "cells": [
  {
   "cell_type": "code",
   "execution_count": 1,
   "metadata": {},
   "outputs": [],
   "source": [
    "%matplotlib inline\n",
    "import numpy as np\n",
    "import matplotlib\n",
    "matplotlib.rcParams['pdf.fonttype'] = 42\n",
    "matplotlib.rcParams['ps.fonttype'] = 42\n",
    "import matplotlib.pyplot as plt\n",
    "plt.rcParams[\"font.family\"] = \"serif\"\n",
    "plt.rcParams.update({'mathtext.default':  'regular' })\n",
    "from matplotlib.ticker import MultipleLocator\n",
    "import json\n",
    "import pandas as pd\n",
    "from pathlib import Path"
   ]
  },
  {
   "cell_type": "code",
   "execution_count": 2,
   "metadata": {},
   "outputs": [],
   "source": [
    "embodied_carbon = 26356.568\n",
    "device_life_years = 5\n",
    "embodied_carbon_per_sec=embodied_carbon / device_life_years / 365 / 24 / 3600"
   ]
  },
  {
   "cell_type": "code",
   "execution_count": 3,
   "metadata": {},
   "outputs": [
    {
     "name": "stdout",
     "output_type": "stream",
     "text": [
      "[1.69842536110139, 1.8528276666560615, 3.705655333312123, 6.3304945277415445, 75.65712972178919, 126.60989055483088] [0.3117455258785357, 0.3117455258785357, 0.3117455258785357, 0.3117455258785357, 0.3117455258785357, 0.3117455258785357] [  5.44811463   5.94339778  11.88679556  20.30660908 242.68874271\n",
      " 406.13218168]\n"
     ]
    },
    {
     "data": {
      "image/png": "[encoded data removed]",
      "text/plain": [
       "<Figure size 504x180 with 2 Axes>"
      ]
     },
     "metadata": {
      "needs_background": "light"
     },
     "output_type": "display_data"
    }
   ],
   "source": [
    "steps = 100\n",
    "frames = 16\n",
    "batch = 1\n",
    "resolution = (240, 426)\n",
    "\n",
    "energy_sources = [\"Wind\", \"Nuclear\", \"Hydro\", \"Solar\", \"Gas\", \"Coal\"]\n",
    "cis = [11, 12, 24, 41, 490, 820]\n",
    "y1, y2 = [], []\n",
    "\n",
    "for ci in cis:\n",
    "    with open(f\"../data/char_sample_1/batch_{batch}_steps_{steps}_frames_{frames}_reso_{resolution[0]}x{resolution[1]}.json\") as f:\n",
    "        data = json.load(f)\n",
    "    y1.append(np.mean(data[\"co2\"]) / 100 * ci * 1.2 / frames * 1000)\n",
    "    y2.append(embodied_carbon_per_sec * np.mean(data[\"time\"]) / frames * 1000)\n",
    "print(y1, y2, np.array(y1) / np.array(y2))\n",
    "\n",
    "fig, axs = plt.subplots(nrows=1, ncols=2, gridspec_kw={'hspace': 0.4, 'wspace': 0.1, 'bottom': 0.2, \n",
    "                    'top': 0.9, 'right':0.995, 'left':0.17}, figsize=(7,2.5), sharey=True)\n",
    "width = 0.3\n",
    "offset = [-0.5, 0.5][::-1]\n",
    "x = np.arange(len(energy_sources))\n",
    "LABELS = [\"Embodied Carbon\", \"Operational Carbon\"]\n",
    "colors = [\"lightskyblue\", \"lightpink\"]\n",
    "ys = y2, y1\n",
    "for ax in axs:\n",
    "    for j, carbon_type in enumerate(ys):\n",
    "        ax.barh(x+offset[j]*width, carbon_type, height=width, label=LABELS[j], color=colors[j], edgecolor=\"black\", zorder=3)\n",
    "    ax.tick_params(axis='both', which='major', labelsize=12)\n",
    "    ax.grid(which='both', axis='x', color='lightgrey', ls='dashed', zorder=0)\n",
    "\n",
    "axs[0].set_xlim(0, 6.8)\n",
    "axs[1].set_xlim(55, 130)\n",
    "# axs[2].set_xlim(0.9, 1.1)\n",
    "axs[0].spines['right'].set_visible(False)\n",
    "axs[1].spines['left'].set_visible(False)\n",
    "# axs[1].spines['left'].set_visible(False)\n",
    "axs[1].tick_params(axis='y', which='both', left=False, right=False)\n",
    "\n",
    "d = .015  # how big to make the diagonal lines in axes coordinates\n",
    "d2 = 2*d\n",
    "# arguments to pass plot, just so we don't keep repeating them\n",
    "kwargs = dict(transform=axs[0].transAxes, color='k', clip_on=False)\n",
    "axs[0].plot((1-d, 1+d), (-d2, +d2), **kwargs)\n",
    "axs[0].plot((1-d, 1+d), (1-d2, 1+d2), **kwargs)\n",
    "\n",
    "kwargs.update(transform=axs[1].transAxes)  # switch to the bottom axes\n",
    "axs[1].plot((-d, +d), (1-d2, 1+d2), **kwargs)\n",
    "axs[1].plot((-d, +d), (-d2, +d2), **kwargs)\n",
    "\n",
    "axs[0].set_yticks(np.arange(len(energy_sources)))\n",
    "axs[0].set_yticklabels(energy_sources)\n",
    "axs[0].xaxis.set_major_locator(MultipleLocator(1))\n",
    "axs[1].xaxis.set_major_locator(MultipleLocator(20))\n",
    "axs[1].legend(fontsize=12)\n",
    "fig.text(0.57, 0.03, \"Carbon Footprint per Video Frame (milligram CO$_2$)\", ha='center', fontsize=13)\n",
    "\n",
    "plt.savefig(f\"figures/fig0_carbon.pdf\", bbox_inches='tight')\n"
   ]
  },
  {
   "cell_type": "code",
   "execution_count": null,
   "metadata": {},
   "outputs": [],
   "source": []
  }
 ],
 "metadata": {
  "kernelspec": {
   "display_name": "pytorch1.10",
   "language": "python",
   "name": "python3"
  },
  "language_info": {
   "codemirror_mode": {
    "name": "ipython",
    "version": 3
   },
   "file_extension": ".py",
   "mimetype": "text/x-python",
   "name": "python",
   "nbconvert_exporter": "python",
   "pygments_lexer": "ipython3",
   "version": "3.10.4"
  }
 },
 "nbformat": 4,
 "nbformat_minor": 2
}
