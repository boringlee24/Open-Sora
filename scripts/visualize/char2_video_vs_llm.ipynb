{
 "cells": [
  {
   "cell_type": "code",
   "execution_count": 1,
   "metadata": {},
   "outputs": [],
   "source": [
    "%matplotlib inline\n",
    "import numpy as np\n",
    "import matplotlib\n",
    "matplotlib.rcParams['pdf.fonttype'] = 42\n",
    "matplotlib.rcParams['ps.fonttype'] = 42\n",
    "import matplotlib.pyplot as plt\n",
    "plt.rcParams[\"font.family\"] = \"serif\"\n",
    "plt.rcParams.update({'mathtext.default':  'regular' })\n",
    "from matplotlib.ticker import MultipleLocator\n",
    "import json\n",
    "import pandas as pd\n",
    "from pathlib import Path"
   ]
  },
  {
   "cell_type": "code",
   "execution_count": 7,
   "metadata": {},
   "outputs": [],
   "source": [
    "embodied_carbon = 26356.568\n",
    "device_life_years = 5\n",
    "embodied_carbon_per_sec=embodied_carbon / device_life_years / 365 / 24 / 3600\n"
   ]
  },
  {
   "cell_type": "markdown",
   "metadata": {},
   "source": [
    "# LLM per token carbon"
   ]
  },
  {
   "cell_type": "code",
   "execution_count": 9,
   "metadata": {},
   "outputs": [
    {
     "data": {
      "text/plain": [
       "0.0002012360378000044"
      ]
     },
     "execution_count": 9,
     "metadata": {},
     "output_type": "execute_result"
    }
   ],
   "source": [
    "with open(\"/work/li.baol/GIT/llama_exp/inference_tests/prompt_sweeping/online_generation/data/motivation1_13b-chat.json\") as f:\n",
    "    llm_data = json.load(f)\n",
    "per_token_carbon = np.mean((np.array(llm_data[\"co2\"]) * 1.2 + embodied_carbon_per_sec * np.array(llm_data[\"time\"])) / np.array(llm_data[\"num_output_tokens\"]))\n",
    "per_token_carbon"
   ]
  },
  {
   "cell_type": "markdown",
   "metadata": {},
   "source": [
    "# LLM per request carbon"
   ]
  },
  {
   "cell_type": "code",
   "execution_count": 10,
   "metadata": {},
   "outputs": [
    {
     "data": {
      "text/plain": [
       "0.04142565266685039"
      ]
     },
     "execution_count": 10,
     "metadata": {},
     "output_type": "execute_result"
    }
   ],
   "source": [
    "datasets = [\"alpaca_5000\", \"math_all\", \"mmlu_5000\", \"naturalqa_5000\", \"scienceqa_5000\", \"triviaqa_5000\"]\n",
    "per_request_carbon = []\n",
    "for dataset in datasets:\n",
    "    with open(f\"/work/li.baol/GIT/llama_exp/inference_tests/prompt_sweeping/online_generation/data/{dataset}_13b-chat.json\") as f:\n",
    "        data = json.load(f)\n",
    "    per_request_carbon.append(np.mean(data[\"co2\"]) * 1.2 + embodied_carbon_per_sec * np.mean(data[\"time\"]))\n",
    "per_request_carbon = np.mean(per_request_carbon)\n",
    "per_request_carbon"
   ]
  },
  {
   "cell_type": "markdown",
   "metadata": {},
   "source": [
    "# OpenSora per frame and per video carbon"
   ]
  },
  {
   "cell_type": "code",
   "execution_count": 14,
   "metadata": {},
   "outputs": [
    {
     "data": {
      "text/plain": [
       "(0.2520316173015315, 0.01575197608134572)"
      ]
     },
     "execution_count": 14,
     "metadata": {},
     "output_type": "execute_result"
    }
   ],
   "source": [
    "resolution = (240, 426)\n",
    "num_frames = 16\n",
    "with open(f\"../data/char_sample_1/batch_1_steps_100_frames_{num_frames}_reso_{resolution[0]}x{resolution[1]}.json\") as f:\n",
    "    data = json.load(f)\n",
    "per_video_carbon = np.mean(data[\"co2\"])  * 1.2 + embodied_carbon_per_sec * np.mean(data[\"time\"])\n",
    "per_frame_carbon = per_video_carbon / num_frames\n",
    "per_video_carbon, per_frame_carbon"
   ]
  },
  {
   "cell_type": "code",
   "execution_count": 76,
   "metadata": {},
   "outputs": [
    {
     "data": {
      "image/png": "[encoded data removed]",
      "text/plain": [
       "<Figure size 504x180 with 2 Axes>"
      ]
     },
     "metadata": {
      "needs_background": "light"
     },
     "output_type": "display_data"
    }
   ],
   "source": [
    "fig, axs = plt.subplots(nrows=1, ncols=2, gridspec_kw={'hspace': 0.4, 'wspace': 0.7, 'bottom': 0.2, \n",
    "                    'top': 0.9, 'right':0.995, 'left':0.3}, figsize=(7,2.5))\n",
    "width = 0.45\n",
    "colors = [\"lemonchiffon\", \"lightcoral\"]\n",
    "x1 = [\"Text Gen.\", \"Video Gen.\"]\n",
    "x2 = [\"Token\", \"Frame\"]\n",
    "\n",
    "axs[0].bar(x1, [per_request_carbon, per_video_carbon], width, color=colors, edgecolor=\"black\", zorder=3)\n",
    "axs[0].set_ylabel(\"Carbon per\\nRequest (gCO$_2$)\", fontsize=13)\n",
    "axs[0].set_ylim(0,.28)\n",
    "axs[0].yaxis.set_major_locator(MultipleLocator(0.05))\n",
    "\n",
    "axs[1].bar(x2, [per_token_carbon, per_frame_carbon], width, color=colors, edgecolor=\"black\", zorder=3)\n",
    "axs[1].set_ylabel(\"Carbon per token\\nor frame (gCO$_2$)\", fontsize=13)\n",
    "# axs[1].set_yscale('log')\n",
    "# axs[1].set_ylim(0,.28)\n",
    "# axs[1].yaxis.set_major_locator(MultipleLocator(0.05))\n",
    "\n",
    "for ax in axs:\n",
    "    ax.grid(which='both', axis='y', color='lightgrey', ls='dashed', zorder=0)\n",
    "    ax.tick_params(axis='both', which='major', labelsize=12)\n",
    "\n",
    "fig.text(0.42, 0.03, \"(a)\", ha='center', fontsize=13)\n",
    "fig.text(0.85, 0.03, \"(b)\", ha='center', fontsize=13)\n",
    "\n",
    "plt.savefig(f\"figures/fig1_text_vs_video.pdf\", bbox_inches='tight')\n"
   ]
  },
  {
   "cell_type": "code",
   "execution_count": 74,
   "metadata": {},
   "outputs": [
    {
     "data": {
      "text/plain": [
       "(6.083950428696856, 78.27611919590963)"
      ]
     },
     "execution_count": 74,
     "metadata": {},
     "output_type": "execute_result"
    }
   ],
   "source": [
    "per_video_carbon / per_request_carbon, per_frame_carbon / per_token_carbon"
   ]
  },
  {
   "cell_type": "code",
   "execution_count": null,
   "metadata": {},
   "outputs": [],
   "source": []
  }
 ],
 "metadata": {
  "kernelspec": {
   "display_name": "pytorch1.10",
   "language": "python",
   "name": "python3"
  },
  "language_info": {
   "codemirror_mode": {
    "name": "ipython",
    "version": 3
   },
   "file_extension": ".py",
   "mimetype": "text/x-python",
   "name": "python",
   "nbconvert_exporter": "python",
   "pygments_lexer": "ipython3",
   "version": "3.10.4"
  }
 },
 "nbformat": 4,
 "nbformat_minor": 2
}
